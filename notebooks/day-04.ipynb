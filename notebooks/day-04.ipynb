{
 "cells": [
  {
   "cell_type": "markdown",
   "id": "3e89c5b3",
   "metadata": {},
   "source": [
    "<img align=\"left\" src=\"https://ithaka-labs.s3.amazonaws.com/static-files/images/tdm/tdmdocs/tapi-logo-small.png\" />\n",
    "\n",
    "This notebook free for educational reuse under [Creative Commons CC BY License](https://creativecommons.org/licenses/by/4.0/).\n",
    "\n",
    "Created by [Firstname Lastname](https://) for the 2022 Text Analysis Pedagogy Institute, with support from the [National Endowment for the Humanities](https://neh.gov), [JSTOR Labs](https://labs.jstor.org/), and [University of Arizona Libraries](https://new.library.arizona.edu/).\n",
    "\n",
    "For questions/comments/improvements, email author@email.address.<br />\n",
    "____"
   ]
  },
  {
   "cell_type": "markdown",
   "id": "68f932d1",
   "metadata": {},
   "source": [
    "# `spaCy 2` `1`\n",
    "\n",
    "This is lesson `1` of 3 in the educational series on `spaCy and NLP`. This notebook is intended `to teach the spaCy EntityRuler and the basics of Rules-Based NLP`. \n",
    "\n",
    "**Audience:** `Teachers` / `Learners` / `Researchers`\n",
    "\n",
    "**Use case:** `Tutorial` / `How-To` / `Explanation` \n",
    "\n",
    "`Include the use case definition from [here](https://constellate.org/docs/documentation-categories)`\n",
    "\n",
    "**Difficulty:** `Intermediate`\n",
    "\n",
    "`Beginner assumes users are relatively new to Python and Jupyter Notebooks. The user is helped step-by-step with lots of explanatory text.`\n",
    "`Intermediate assumes users are familiar with Python and have been programming for 6+ months. Code makes up a larger part of the notebook and basic concepts related to Python are not explained.`\n",
    "`Advanced assumes users are very familiar with Python and have been programming for years, but they may not be familiar with the process being explained.`\n",
    "\n",
    "**Completion time:** `90 minutes`\n",
    "\n",
    "**Knowledge Required:** \n",
    "```\n",
    "* Python basics (variables, flow control, functions, lists, dictionaries)\n",
    "* A basic understanding of spaCy (see notebooks 1-3)\n",
    "```\n",
    "\n",
    "**Knowledge Recommended:**\n",
    "```\n",
    "* Basic file operations (open, close, read, write)\n",
    "* Loading data with Pandas\n",
    "```\n",
    "\n",
    "**Learning Objectives:**\n",
    "After this lesson, learners will be able to:\n",
    "```\n",
    "1. Learn about the spaCy EntityRuler and how to apply it\n",
    "2. Learn about spaCy Patterns\n",
    "3. Learn about spaCy rules-based pipelines\n",
    "```\n",
    "___"
   ]
  },
  {
   "cell_type": "markdown",
   "id": "157c0555",
   "metadata": {},
   "source": [
    "# Required Python Libraries\n",
    "`List out any libraries used and what they are used for`\n",
    "* [Tesseract](https://tesseract-ocr.github.io/) for performing [optical character recognition](https://docs.constellate.org/key-terms/#ocr).\n",
    "* [Pandas](https://pandas.pydata.org/) for manipulating and cleaning data.\n",
    "* [Pdf2image](https://pdf2image.readthedocs.io/en/latest/) for converting pdf files into image files.\n",
    "\n",
    "## Install Required Libraries"
   ]
  },
  {
   "cell_type": "code",
   "execution_count": 18,
   "id": "e8a220f5",
   "metadata": {},
   "outputs": [
    {
     "name": "stdout",
     "output_type": "stream",
     "text": [
      "Requirement already satisfied: spacy in c:\\users\\wma22\\anaconda3\\lib\\site-packages (3.6.0)\n",
      "Requirement already satisfied: smart-open<7.0.0,>=5.2.1 in c:\\users\\wma22\\anaconda3\\lib\\site-packages (from spacy) (6.3.0)\n",
      "Requirement already satisfied: pydantic!=1.8,!=1.8.1,<1.11.0,>=1.7.4 in c:\\users\\wma22\\anaconda3\\lib\\site-packages (from spacy) (1.10.4)\n",
      "Requirement already satisfied: setuptools in c:\\users\\wma22\\anaconda3\\lib\\site-packages (from spacy) (66.0.0)\n",
      "Requirement already satisfied: requests<3.0.0,>=2.13.0 in c:\\users\\wma22\\anaconda3\\lib\\site-packages (from spacy) (2.28.2)\n",
      "Requirement already satisfied: catalogue<2.1.0,>=2.0.6 in c:\\users\\wma22\\anaconda3\\lib\\site-packages (from spacy) (2.0.8)\n",
      "Requirement already satisfied: typer<0.10.0,>=0.3.0 in c:\\users\\wma22\\anaconda3\\lib\\site-packages (from spacy) (0.7.0)\n",
      "Requirement already satisfied: thinc<8.2.0,>=8.1.8 in c:\\users\\wma22\\anaconda3\\lib\\site-packages (from spacy) (8.1.10)\n",
      "Requirement already satisfied: preshed<3.1.0,>=3.0.2 in c:\\users\\wma22\\anaconda3\\lib\\site-packages (from spacy) (3.0.8)\n",
      "Requirement already satisfied: jinja2 in c:\\users\\wma22\\anaconda3\\lib\\site-packages (from spacy) (3.1.2)\n",
      "Requirement already satisfied: numpy>=1.15.0 in c:\\users\\wma22\\anaconda3\\lib\\site-packages (from spacy) (1.24.2)\n",
      "Requirement already satisfied: murmurhash<1.1.0,>=0.28.0 in c:\\users\\wma22\\anaconda3\\lib\\site-packages (from spacy) (1.0.9)\n",
      "Requirement already satisfied: wasabi<1.2.0,>=0.9.1 in c:\\users\\wma22\\anaconda3\\lib\\site-packages (from spacy) (0.10.1)\n",
      "Requirement already satisfied: packaging>=20.0 in c:\\users\\wma22\\anaconda3\\lib\\site-packages (from spacy) (23.0)\n",
      "Requirement already satisfied: spacy-loggers<2.0.0,>=1.0.0 in c:\\users\\wma22\\anaconda3\\lib\\site-packages (from spacy) (1.0.4)\n",
      "Requirement already satisfied: cymem<2.1.0,>=2.0.2 in c:\\users\\wma22\\anaconda3\\lib\\site-packages (from spacy) (2.0.7)\n",
      "Requirement already satisfied: pathy>=0.10.0 in c:\\users\\wma22\\anaconda3\\lib\\site-packages (from spacy) (0.10.1)\n",
      "Requirement already satisfied: spacy-legacy<3.1.0,>=3.0.11 in c:\\users\\wma22\\anaconda3\\lib\\site-packages (from spacy) (3.0.11)\n",
      "Requirement already satisfied: srsly<3.0.0,>=2.4.3 in c:\\users\\wma22\\anaconda3\\lib\\site-packages (from spacy) (2.4.5)\n",
      "Requirement already satisfied: tqdm<5.0.0,>=4.38.0 in c:\\users\\wma22\\anaconda3\\lib\\site-packages (from spacy) (4.64.1)\n",
      "Requirement already satisfied: langcodes<4.0.0,>=3.2.0 in c:\\users\\wma22\\anaconda3\\lib\\site-packages (from spacy) (3.3.0)\n",
      "Requirement already satisfied: typing-extensions>=4.2.0 in c:\\users\\wma22\\anaconda3\\lib\\site-packages (from pydantic!=1.8,!=1.8.1,<1.11.0,>=1.7.4->spacy) (4.4.0)\n",
      "Requirement already satisfied: certifi>=2017.4.17 in c:\\users\\wma22\\anaconda3\\lib\\site-packages (from requests<3.0.0,>=2.13.0->spacy) (2022.12.7)\n",
      "Requirement already satisfied: charset-normalizer<4,>=2 in c:\\users\\wma22\\appdata\\roaming\\python\\python38\\site-packages (from requests<3.0.0,>=2.13.0->spacy) (2.1.1)\n",
      "Requirement already satisfied: urllib3<1.27,>=1.21.1 in c:\\users\\wma22\\anaconda3\\lib\\site-packages (from requests<3.0.0,>=2.13.0->spacy) (1.26.14)\n",
      "Requirement already satisfied: idna<4,>=2.5 in c:\\users\\wma22\\anaconda3\\lib\\site-packages (from requests<3.0.0,>=2.13.0->spacy) (3.4)\n",
      "Requirement already satisfied: blis<0.8.0,>=0.7.8 in c:\\users\\wma22\\anaconda3\\lib\\site-packages (from thinc<8.2.0,>=8.1.8->spacy) (0.7.9)\n",
      "Requirement already satisfied: confection<1.0.0,>=0.0.1 in c:\\users\\wma22\\anaconda3\\lib\\site-packages (from thinc<8.2.0,>=8.1.8->spacy) (0.0.4)\n",
      "Requirement already satisfied: colorama in c:\\users\\wma22\\anaconda3\\lib\\site-packages (from tqdm<5.0.0,>=4.38.0->spacy) (0.4.6)\n",
      "Requirement already satisfied: click<9.0.0,>=7.1.1 in c:\\users\\wma22\\anaconda3\\lib\\site-packages (from typer<0.10.0,>=0.3.0->spacy) (8.1.3)\n",
      "Requirement already satisfied: MarkupSafe>=2.0 in c:\\users\\wma22\\anaconda3\\lib\\site-packages (from jinja2->spacy) (2.1.2)\n"
     ]
    },
    {
     "name": "stderr",
     "output_type": "stream",
     "text": [
      "WARNING: Ignoring invalid distribution -otobuf (c:\\users\\wma22\\anaconda3\\lib\\site-packages)\n",
      "WARNING: Ignoring invalid distribution -rotobuf (c:\\users\\wma22\\anaconda3\\lib\\site-packages)\n",
      "WARNING: Ignoring invalid distribution -illow (c:\\users\\wma22\\anaconda3\\lib\\site-packages)\n",
      "WARNING: Ignoring invalid distribution - (c:\\users\\wma22\\anaconda3\\lib\\site-packages)\n",
      "WARNING: Ignoring invalid distribution -otobuf (c:\\users\\wma22\\anaconda3\\lib\\site-packages)\n",
      "WARNING: Ignoring invalid distribution -rotobuf (c:\\users\\wma22\\anaconda3\\lib\\site-packages)\n",
      "WARNING: Ignoring invalid distribution -illow (c:\\users\\wma22\\anaconda3\\lib\\site-packages)\n",
      "WARNING: Ignoring invalid distribution - (c:\\users\\wma22\\anaconda3\\lib\\site-packages)\n",
      "WARNING: Ignoring invalid distribution -otobuf (c:\\users\\wma22\\anaconda3\\lib\\site-packages)\n",
      "WARNING: Ignoring invalid distribution -rotobuf (c:\\users\\wma22\\anaconda3\\lib\\site-packages)\n",
      "WARNING: Ignoring invalid distribution -illow (c:\\users\\wma22\\anaconda3\\lib\\site-packages)\n",
      "WARNING: Ignoring invalid distribution - (c:\\users\\wma22\\anaconda3\\lib\\site-packages)\n",
      "WARNING: Ignoring invalid distribution -otobuf (c:\\users\\wma22\\anaconda3\\lib\\site-packages)\n",
      "WARNING: Ignoring invalid distribution -rotobuf (c:\\users\\wma22\\anaconda3\\lib\\site-packages)\n",
      "WARNING: Ignoring invalid distribution -illow (c:\\users\\wma22\\anaconda3\\lib\\site-packages)\n",
      "WARNING: Ignoring invalid distribution - (c:\\users\\wma22\\anaconda3\\lib\\site-packages)\n",
      "WARNING: Ignoring invalid distribution -otobuf (c:\\users\\wma22\\anaconda3\\lib\\site-packages)\n",
      "WARNING: Ignoring invalid distribution -rotobuf (c:\\users\\wma22\\anaconda3\\lib\\site-packages)\n",
      "WARNING: Ignoring invalid distribution -illow (c:\\users\\wma22\\anaconda3\\lib\\site-packages)\n",
      "WARNING: Ignoring invalid distribution - (c:\\users\\wma22\\anaconda3\\lib\\site-packages)\n",
      "WARNING: Ignoring invalid distribution -otobuf (c:\\users\\wma22\\anaconda3\\lib\\site-packages)\n",
      "WARNING: Ignoring invalid distribution -rotobuf (c:\\users\\wma22\\anaconda3\\lib\\site-packages)\n",
      "WARNING: Ignoring invalid distribution -illow (c:\\users\\wma22\\anaconda3\\lib\\site-packages)\n",
      "WARNING: Ignoring invalid distribution - (c:\\users\\wma22\\anaconda3\\lib\\site-packages)\n"
     ]
    },
    {
     "name": "stdout",
     "output_type": "stream",
     "text": [
      "Requirement already satisfied: pandas in c:\\users\\wma22\\anaconda3\\lib\\site-packages (1.5.1)\n",
      "Requirement already satisfied: pytz>=2020.1 in c:\\users\\wma22\\anaconda3\\lib\\site-packages (from pandas) (2022.6)\n",
      "Requirement already satisfied: python-dateutil>=2.8.1 in c:\\users\\wma22\\anaconda3\\lib\\site-packages (from pandas) (2.8.1)\n",
      "Requirement already satisfied: numpy>=1.20.3 in c:\\users\\wma22\\anaconda3\\lib\\site-packages (from pandas) (1.24.2)\n",
      "Requirement already satisfied: six>=1.5 in c:\\users\\wma22\\appdata\\roaming\\python\\python38\\site-packages (from python-dateutil>=2.8.1->pandas) (1.16.0)\n"
     ]
    },
    {
     "name": "stderr",
     "output_type": "stream",
     "text": [
      "WARNING: Ignoring invalid distribution -otobuf (c:\\users\\wma22\\anaconda3\\lib\\site-packages)\n",
      "WARNING: Ignoring invalid distribution -rotobuf (c:\\users\\wma22\\anaconda3\\lib\\site-packages)\n",
      "WARNING: Ignoring invalid distribution -illow (c:\\users\\wma22\\anaconda3\\lib\\site-packages)\n",
      "WARNING: Ignoring invalid distribution - (c:\\users\\wma22\\anaconda3\\lib\\site-packages)\n",
      "WARNING: Ignoring invalid distribution -otobuf (c:\\users\\wma22\\anaconda3\\lib\\site-packages)\n",
      "WARNING: Ignoring invalid distribution -rotobuf (c:\\users\\wma22\\anaconda3\\lib\\site-packages)\n",
      "WARNING: Ignoring invalid distribution -illow (c:\\users\\wma22\\anaconda3\\lib\\site-packages)\n",
      "WARNING: Ignoring invalid distribution - (c:\\users\\wma22\\anaconda3\\lib\\site-packages)\n",
      "WARNING: Ignoring invalid distribution -otobuf (c:\\users\\wma22\\anaconda3\\lib\\site-packages)\n",
      "WARNING: Ignoring invalid distribution -rotobuf (c:\\users\\wma22\\anaconda3\\lib\\site-packages)\n",
      "WARNING: Ignoring invalid distribution -illow (c:\\users\\wma22\\anaconda3\\lib\\site-packages)\n",
      "WARNING: Ignoring invalid distribution - (c:\\users\\wma22\\anaconda3\\lib\\site-packages)\n",
      "WARNING: Ignoring invalid distribution -otobuf (c:\\users\\wma22\\anaconda3\\lib\\site-packages)\n",
      "WARNING: Ignoring invalid distribution -rotobuf (c:\\users\\wma22\\anaconda3\\lib\\site-packages)\n",
      "WARNING: Ignoring invalid distribution -illow (c:\\users\\wma22\\anaconda3\\lib\\site-packages)\n",
      "WARNING: Ignoring invalid distribution - (c:\\users\\wma22\\anaconda3\\lib\\site-packages)\n",
      "WARNING: Ignoring invalid distribution -otobuf (c:\\users\\wma22\\anaconda3\\lib\\site-packages)\n",
      "WARNING: Ignoring invalid distribution -rotobuf (c:\\users\\wma22\\anaconda3\\lib\\site-packages)\n",
      "WARNING: Ignoring invalid distribution -illow (c:\\users\\wma22\\anaconda3\\lib\\site-packages)\n",
      "WARNING: Ignoring invalid distribution - (c:\\users\\wma22\\anaconda3\\lib\\site-packages)\n",
      "WARNING: Ignoring invalid distribution -otobuf (c:\\users\\wma22\\anaconda3\\lib\\site-packages)\n",
      "WARNING: Ignoring invalid distribution -rotobuf (c:\\users\\wma22\\anaconda3\\lib\\site-packages)\n",
      "WARNING: Ignoring invalid distribution -illow (c:\\users\\wma22\\anaconda3\\lib\\site-packages)\n",
      "WARNING: Ignoring invalid distribution - (c:\\users\\wma22\\anaconda3\\lib\\site-packages)\n",
      "c:\\Users\\wma22\\anaconda3\\python.exe: No module named download\n",
      "c:\\Users\\wma22\\anaconda3\\python.exe: No module named download\n",
      "c:\\Users\\wma22\\anaconda3\\python.exe: No module named download\n"
     ]
    }
   ],
   "source": [
    "### Install Libraries ###\n",
    "\n",
    "# Using !pip installs\n",
    "!pip install spacy\n",
    "!pip install pandas\n",
    "!python -m download en_core_web_sm\n",
    "!python -m download en_core_web_md\n",
    "!python -m download en_core_web_lg\n",
    "\n",
    "# Using %%bash magic with apt-get and yes prompt"
   ]
  },
  {
   "cell_type": "code",
   "execution_count": null,
   "id": "b546e12d",
   "metadata": {},
   "outputs": [],
   "source": [
    "%%bash\n",
    "apt-get install tesseract-ocr\n",
    "y"
   ]
  },
  {
   "cell_type": "code",
   "execution_count": null,
   "id": "5480e2a8",
   "metadata": {},
   "outputs": [],
   "source": [
    "import pandas as pd\n",
    "from spacy import displacy\n",
    "import spacy"
   ]
  },
  {
   "cell_type": "markdown",
   "id": "8dedd148",
   "metadata": {},
   "source": [
    "# Required Data\n",
    "\n",
    "We will be using a CSV file that contains a list of characters in Lord of the Rings (see link below).\n",
    "\n",
    "\n",
    "## Download Required Data"
   ]
  },
  {
   "cell_type": "code",
   "execution_count": null,
   "id": "9f9da404",
   "metadata": {},
   "outputs": [],
   "source": [
    "### Grab files with Pandas' read CSV\n",
    "url = \"https://raw.githubusercontent.com/juandes/lotr-names-classification/master/characters_data.csv\"\n",
    "df = pd.read_csv(url)\n",
    "df\n"
   ]
  },
  {
   "cell_type": "markdown",
   "id": "f53edaa2",
   "metadata": {},
   "source": [
    "# Introduction\n",
    "\n",
    "In this notebook, we will be looking at the basic rules-based components available to you in spaCy. We will look briefly at the `Matcher` and `PhraseMatcher`. We will do a deep dive in this notebook into the `EntityRule`. This will set us up so that in the next notebook, we can look at the `SpanRuler`. All of this will lay the groundwork for understanding how to design and implement custom components in spaCy in the final notebook from this week.\n",
    "\n",
    "We are starting this week with a single problem that we will solve over the next 2 weeks. We want to create from scratch a spaCy pipeline specifically designed to work with texts from Lord of the Rings. We want it to be able to identify correctly Middle Earth people and places. We also want it to be able to identify domain-specific entity types, such as named weapons (such as Orcist and Glamdring). Because we are not great at coming up with names, we are going to simply call this HobbitspaCy. The goal is to make this available to others on HuggingFace, an open-source repository and framework for machine learning models, datasets, and spaCy pipelines (among many other things). Think of it as a GitHub specifically designed for machine learning.\n",
    "\n",
    "![HobbitspaCy Image](../images/hobbitspacy.png)\n"
   ]
  },
  {
   "cell_type": "markdown",
   "id": "6e3b62c8",
   "metadata": {},
   "source": [
    "# What is Rules-Based NLP?\n",
    "\n",
    "Rules-based natural language processing is the process by which we design rules for performing specific tasks. Rules-based NLP should be viewed as distinctly different from machine learning NLP, which trains statistical models to recognize features of data via training (we will meet this later).\n",
    "\n",
    "A good way to think about rules-based NLP is to think about a list. Imagine you have a list of characters in a book that you want to find. Would you need to train a machine learning model to recognize all those characters? Probably not. If it is a popular book, such as Lord of the Rings, character lists already exist. You can find them on numerous sites as HTML or even on GitHub as CSV files. Will these lists have mistakes? Yes, most likely. Often when we work with datasets that others have cultivated there will be mistakes or things we don't like. Nevertheless, these available datasets often provide a good starting point.\n",
    "\n",
    "Now, imagine the named entity recognition model in a spaCy pipeline. Let's see how well it performs on a fairly simple sentence describing the realm of Gondor in Middle Earth.\n",
    "\n",
    "We will be going over the code in more depth later in this notebook. For now, focus on the output."
   ]
  },
  {
   "cell_type": "code",
   "execution_count": 16,
   "id": "b0f61d48",
   "metadata": {},
   "outputs": [
    {
     "data": {
      "text/html": [
       "<span class=\"tex2jax_ignore\"><div class=\"entities\" style=\"line-height: 2.5; direction: ltr\">Gondor is a realm in Lord of the \n",
       "<mark class=\"entity\" style=\"background: #7aecec; padding: 0.45em 0.6em; margin: 0 0.25em; line-height: 1; border-radius: 0.35em;\">\n",
       "    Rings\n",
       "    <span style=\"font-size: 0.8em; font-weight: bold; line-height: 1; border-radius: 0.35em; vertical-align: middle; margin-left: 0.5rem\">ORG</span>\n",
       "</mark>\n",
       ".</div></span>"
      ],
      "text/plain": [
       "<IPython.core.display.HTML object>"
      ]
     },
     "metadata": {},
     "output_type": "display_data"
    }
   ],
   "source": [
    "#Import the requisite library\n",
    "import spacy\n",
    "\n",
    "#Build upon the spaCy Small Model\n",
    "nlp = spacy.load(\"en_core_web_sm\")\n",
    "\n",
    "#Sample text\n",
    "text = \"Gondor is a realm in Lord of the Rings.\"\n",
    "\n",
    "#Create the Doc object\n",
    "doc = nlp(text)\n",
    "\n",
    "displacy.render(doc, style=\"ent\")"
   ]
  },
  {
   "cell_type": "markdown",
   "id": "e8616ce5",
   "metadata": {},
   "source": [
    "I would argue that Gondor should be a place, either a GPE or LOC. Why has it not been correctly identified? There are a few different reasons for this. First, Gondor likely did not appear in the training data for the English small model or, if it did, it was quite rare. The training data for that model likely consisted of more real-world places. Second, the small model's vectors were not saved, meaning it cannot make good predictions on out-of-scope data, such as Gondor. We use the term out-of-scope to reference data that is far removed from the core of the training data.\n",
    "\n",
    "Let's see how everything works with the medium model."
   ]
  },
  {
   "cell_type": "code",
   "execution_count": 17,
   "id": "ba7380e3",
   "metadata": {},
   "outputs": [
    {
     "data": {
      "text/html": [
       "<span class=\"tex2jax_ignore\"><div class=\"entities\" style=\"line-height: 2.5; direction: ltr\">Gondor is a realm in Lord of the \n",
       "<mark class=\"entity\" style=\"background: #7aecec; padding: 0.45em 0.6em; margin: 0 0.25em; line-height: 1; border-radius: 0.35em;\">\n",
       "    Rings\n",
       "    <span style=\"font-size: 0.8em; font-weight: bold; line-height: 1; border-radius: 0.35em; vertical-align: middle; margin-left: 0.5rem\">ORG</span>\n",
       "</mark>\n",
       ".</div></span>"
      ],
      "text/plain": [
       "<IPython.core.display.HTML object>"
      ]
     },
     "metadata": {},
     "output_type": "display_data"
    }
   ],
   "source": [
    "#Build upon the spaCy Small Model\n",
    "nlp = spacy.load(\"en_core_web_md\")\n",
    "\n",
    "#Sample text\n",
    "text = \"Gondor is a realm in Lord of the Rings.\"\n",
    "\n",
    "#Create the Doc object\n",
    "doc = nlp(text)\n",
    "\n",
    "displacy.render(doc, style=\"ent\")"
   ]
  },
  {
   "cell_type": "markdown",
   "id": "e6b5c686",
   "metadata": {},
   "source": [
    "We have identical results. And what about the large model?"
   ]
  },
  {
   "cell_type": "code",
   "execution_count": 20,
   "id": "21fa0989",
   "metadata": {},
   "outputs": [
    {
     "data": {
      "text/html": [
       "<span class=\"tex2jax_ignore\"><div class=\"entities\" style=\"line-height: 2.5; direction: ltr\">Gondor is a realm in Lord of the Rings.</div></span>"
      ],
      "text/plain": [
       "<IPython.core.display.HTML object>"
      ]
     },
     "metadata": {},
     "output_type": "display_data"
    }
   ],
   "source": [
    "#Build upon the spaCy Small Model\n",
    "nlp = spacy.load(\"en_core_web_lg\")\n",
    "\n",
    "#Sample text\n",
    "text = \"Gondor is a realm in Lord of the Rings.\"\n",
    "\n",
    "#Create the Doc object\n",
    "doc = nlp(text)\n",
    "\n",
    "displacy.render(doc, style=\"ent\")"
   ]
  },
  {
   "cell_type": "markdown",
   "id": "9bc24fdf",
   "metadata": {},
   "source": [
    "Notice that the large model is better. It knows that `Rings` is not an `ORG`. Nevertheless, if we wanted to run this model across Lord of the Rings, we can likely expect mixed results, even with the large model.\n",
    "\n",
    "Let's take a look at the benefits of a transformer model (not downloaded in this notebook)."
   ]
  },
  {
   "cell_type": "code",
   "execution_count": 22,
   "id": "cec5a39d",
   "metadata": {},
   "outputs": [
    {
     "data": {
      "text/html": [
       "<span class=\"tex2jax_ignore\"><div class=\"entities\" style=\"line-height: 2.5; direction: ltr\">\n",
       "<mark class=\"entity\" style=\"background: #feca74; padding: 0.45em 0.6em; margin: 0 0.25em; line-height: 1; border-radius: 0.35em;\">\n",
       "    Gondor\n",
       "    <span style=\"font-size: 0.8em; font-weight: bold; line-height: 1; border-radius: 0.35em; vertical-align: middle; margin-left: 0.5rem\">GPE</span>\n",
       "</mark>\n",
       " is a realm in \n",
       "<mark class=\"entity\" style=\"background: #f0d0ff; padding: 0.45em 0.6em; margin: 0 0.25em; line-height: 1; border-radius: 0.35em;\">\n",
       "    Lord of the Rings\n",
       "    <span style=\"font-size: 0.8em; font-weight: bold; line-height: 1; border-radius: 0.35em; vertical-align: middle; margin-left: 0.5rem\">WORK_OF_ART</span>\n",
       "</mark>\n",
       ".</div></span>"
      ],
      "text/plain": [
       "<IPython.core.display.HTML object>"
      ]
     },
     "metadata": {},
     "output_type": "display_data"
    }
   ],
   "source": [
    "#Build upon the spaCy Small Model\n",
    "nlp = spacy.load(\"en_core_web_trf\")\n",
    "\n",
    "#Sample text\n",
    "text = \"Gondor is a realm in Lord of the Rings.\"\n",
    "\n",
    "#Create the Doc object\n",
    "doc = nlp(text)\n",
    "\n",
    "displacy.render(doc, style=\"ent\")"
   ]
  },
  {
   "cell_type": "markdown",
   "id": "d006f8c9",
   "metadata": {},
   "source": [
    "Here we see marked improvement. We have correctly grabbed Gondor as a GPE and Lord of the Rings as a Work of Art. Why is that? Because the transformer model is able to make better predictions based on the ways in which learns from training data and creates vectors. We will learn more about this next week. Without running the transformer model over all Lord of the Rings, I would venture to guess that we still would not have perfect results.\n",
    "\n",
    "In this notebook, we will begin to correct that by designing a custom MiddleEarthspaCy pipeline from scratch. It will have a rules-based EntityRuler, custom components, and even a machine learning NER.\n",
    "\n",
    "For now, let's dive into the rules-based components available to us in spaCy."
   ]
  },
  {
   "cell_type": "markdown",
   "id": "a355d51b",
   "metadata": {},
   "source": [
    "# spaCy Rules-Based Components\n",
    "\n",
    "Why should you consider working with rules-based components rather than outside of spaCy? As we will see, working with everything inside of a spaCy pipelines means that you can construct complex rules not only from lists of entities, but from grammatical features of the text.\n",
    "\n",
    "Inside of spaCy, we have several rules-based components that we can use. In this notebook, we will be looking closely at the EntityRuler, but look at an overview of the others.\n",
    "\n",
    "## Tokenizer\n",
    "\n",
    "In the previous notebooks, we have met the tokenizer. It is one of the built-in rules-based components that you can customize. Because the tokenizer breaks up the input string into individual words, or \"tokens\", you have a lot of flexibility as to how the data is processed. I am in the middle of designing a spaCy pipeline for DNA Sequences. We needed the tokenizer to take a continuous string of 4 letters and break it into individual KMERs, or window-ed segments. Here is an example of what that custom tokenizer looks like:\n",
    "\n",
    "\n",
    "```python\n",
    "class KMerTokenizer:\n",
    "    name = \"kmer_tokenizer\"\n",
    "\n",
    "    def __init__(self, vocab=None, kmer_size=None, window_size=None):\n",
    "        self.vocab = vocab\n",
    "        self.kmer_size = kmer_size\n",
    "        self.window_size = window_size\n",
    "        self.letter_dict = {\"A\": 1, \"C\": 2, \"G\": 3, \"T\": 4}\n",
    "        self._calc = np.int64(4) ** self.kmer_size  # Calculate this once\n",
    "\n",
    "    def __call__(self, dna):\n",
    "        dna = dna.replace(\"N\", '').replace(\"N\", '')\n",
    "        kmers = []\n",
    "        end = len(dna) - self.kmer_size + 1\n",
    "        kmer_values = np.zeros(end, dtype=np.int64)\n",
    "\n",
    "        kmer_value = np.int64(0)\n",
    "        for i in range(self.kmer_size):\n",
    "            kmer_value = kmer_value * np.int64(4) + np.int64(self.letter_dict[dna[i]])\n",
    "\n",
    "        kmer_values[0] = kmer_value\n",
    "\n",
    "        for i in range(1, end): \n",
    "            kmer_value = kmer_value * np.int64(4) - np.int64(self.letter_dict[dna[i-1]]) * self._calc + np.int64(self.letter_dict[dna[i+self.kmer_size-1]])\n",
    "            kmer_values[i] = kmer_value\n",
    "            kmers.append(dna[i:i+self.kmer_size])\n",
    "\n",
    "        spaces = [True] * len(kmers)\n",
    "\n",
    "        doc = Doc(self.vocab, words=kmers, spaces=spaces)\n",
    "\n",
    "        for idx, token in enumerate(doc):\n",
    "            token._.numerical_value = kmer_values[idx]\n",
    "        return doc\n",
    "```\n",
    "\n",
    "I won't cover all the code here, rather I want to emphasize that these are custom rules to handle the conversion a continuous text into individual tokens (words) at every pre-designed KMER size, so it would take an input that looks like this:\n",
    "\n",
    "```python\n",
    "\"GGCATGCATGGCAGGCATGCATGGCA\"\n",
    "```\n",
    "\n",
    "and return a list of tokens that looks like this:\n",
    "\n",
    "```python\n",
    "['GCATGCA', 'CATGCAT', 'ATGCATG', 'TGCATGG', 'GCATGGC', 'CATGGCA', 'ATGGCAG', 'TGGCAGG', 'GGCAGGC', 'GCAGGCA', 'CAGGCAT', 'AGGCATG', 'GGCATGC', 'GCATGCA']\n",
    "```\n",
    "\n",
    "This demonstrates the power of and customizability of spaCy."
   ]
  },
  {
   "cell_type": "markdown",
   "id": "49154caa",
   "metadata": {},
   "source": [
    "\n",
    "## Matchers\n",
    "\n",
    "We have three Matchers in spaCy: [Matcher](https://spacy.io/api/matcher), [PhraseMatcher](https://spacy.io/api/phrasematcher), and [DependencyMatcher](https://spacy.io/api/dependencymatcher). These allows to define patterns at either the token level to flag specific things in a text. Unlike the EntityRuler and NER, these are not added to doc.ents.\n",
    "\n",
    "## Other Rules-Based Components.\n",
    "\n",
    "In these notebooks, we are interested in three different types of components: the EntityRuler (rules-based NER), the SpanRuler (which can handle overlapping entities), and custom components. We will meet each of these in turn."
   ]
  },
  {
   "cell_type": "markdown",
   "id": "9ed11aee",
   "metadata": {},
   "source": [
    "# EntityRuler\n",
    "\n",
    "The EntityRuler is a spaCy factory that allows one to create a set of patterns with corresponding labels. A factory in spaCy is a set of classes and functions preloaded in spaCy that perform set tasks. In the case of the EntityRuler, the factory at hand allows the user to create an EntityRuler, give it a set of instructions, and then use this instructions to find and label entities.\n",
    "\n",
    "Once the user has created the EntityRuler and given it a set of instructions, the user can then add it to the spaCy pipeline as a new pipe. I have spoken in the past notebooks briefly about pipes, but perhaps it is good to address them in more detail here.\n",
    "\n",
    "A pipe is a component of a pipeline. A pipeline’s purpose is to take input data, perform some sort of operations on that input data, and then output those operations either as a new data or extracted metadata. A pipe is an individual component of a pipeline. In the case of spaCy, there are a few different pipes that perform different tasks. The tokenizer, tokenizes the text into individual tokens; the parser, parses the text, and the NER identifies entities and labels them accordingly. All of this data is stored in the Doc object as we saw in Notebook 01_01 of this series.\n",
    "\n",
    "It is important to remember that pipelines are sequential. This means that components earlier in a pipeline affect what later components receive. Sometimes this sequence is essential, meaning later pipes depend on earlier pipes. At other times, this sequence is not essential, meaning later pipes can function without earlier pipes. It is important to keep this in mind as you create custom spaCy models (or any pipeline for that matter).\n",
    "\n",
    "In this notebook, we will be looking closely at the EntityRuler as a component of a spaCy model’s pipeline. Off-the-shelf spaCy models come preloaded with an NER model; they do not, however, come with an EntityRuler. In order to incorperate an EntityRuler into a spaCy model, it must be created as a new pipe, given instructions, and then added to the model. Once this is complete, the user can save that new model with the EntityRuler to the disk.\n",
    "\n",
    "The full documentation of spaCy EntityRuler can be found here: https://spacy.io/api/entityruler .\n",
    "\n",
    "This notebook with synthesize this documentation for non-specialists and provide some examples of it in action.\n",
    "\n",
    "## Demonstration of the EntityRuler in Action\n",
    "\n",
    "In the code below, we will introduce a new pipe into spaCy’s off-the-shelf small English model. The purpose of this EntityRuler will be to identify small villages in Poland correctly."
   ]
  },
  {
   "cell_type": "code",
   "execution_count": 4,
   "id": "0e99f91f",
   "metadata": {},
   "outputs": [
    {
     "name": "stdout",
     "output_type": "stream",
     "text": [
      "Rings ORG\n"
     ]
    }
   ],
   "source": [
    "#Import the requisite library\n",
    "import spacy\n",
    "\n",
    "#Build upon the spaCy Small Model\n",
    "nlp = spacy.load(\"en_core_web_sm\")\n",
    "\n",
    "#Sample text\n",
    "text = \"Gondor is a realm in Lord of the Rings.\"\n",
    "\n",
    "#Create the Doc object\n",
    "doc = nlp(text)\n",
    "\n",
    "#extract entities\n",
    "for ent in doc.ents:\n",
    "    print (ent.text, ent.label_)"
   ]
  },
  {
   "cell_type": "markdown",
   "id": "39071456",
   "metadata": {},
   "source": [
    "Depending on which version of spaCy and the `en_core_web_sm` model you are using, the results may vary.\n",
    "\n",
    "The output from the code above demonstrates spaCy’s small model's inability to identify Gondor, which is a realm (and city) in Middle Earth. It also flagged `Rings` as `ORG`. This is incorrect.\n",
    "\n",
    "This is a common problem in NLP for specific domains. Often times the domains in which we wish to deploy models, off-the-shelf models will fail because they have not been trained on domain-specific texts. We can resolve this, however, either via spaCy’s EntityRuler or via training a new model. In this notebook, we will focus on the EntityRuler.\n",
    "\n",
    "Before we dive into how we can use the EntityRuler, let's see a result of applying it in this specific scenario."
   ]
  },
  {
   "cell_type": "code",
   "execution_count": 6,
   "id": "ee8e90ca",
   "metadata": {},
   "outputs": [
    {
     "name": "stdout",
     "output_type": "stream",
     "text": [
      "Gondor REALM\n",
      "Rings ORG\n"
     ]
    }
   ],
   "source": [
    "#Build upon the spaCy Small Model\n",
    "nlp = spacy.load(\"en_core_web_sm\")\n",
    "\n",
    "#Sample text\n",
    "text = \"Gondor is a realm in Lord of the Rings.\"\n",
    "\n",
    "#Create the EntityRuler\n",
    "ruler = nlp.add_pipe(\"entity_ruler\")\n",
    "\n",
    "#List of Entities and Patterns\n",
    "patterns = [\n",
    "                {\"label\": \"REALM\", \"pattern\": \"Gondor\"}\n",
    "            ]\n",
    "\n",
    "ruler.add_patterns(patterns)\n",
    "\n",
    "\n",
    "doc = nlp(text)\n",
    "\n",
    "#extract entities\n",
    "for ent in doc.ents:\n",
    "    print (ent.text, ent.label_)"
   ]
  },
  {
   "cell_type": "markdown",
   "id": "6c7ea17a",
   "metadata": {},
   "source": [
    "# Working with the EntityRuler\n",
    "\n",
    "Let's dive into how the code above actually works by taking a look into what the EntityRuler is and how it works.\n",
    "\n",
    "The EntityRuler, as noted above, is a rules-based component available to us in spaCy natively. It relies on an input of a list of patterns. These patterns will always have two components, a pattern, or the thing you wish to label and `label`, or the NER label you wish to assign to that pattern. Under the hood, spaCy will automatically flag anything we tell it to assign as that label.\n",
    "\n",
    "## Gazetteer \n",
    "\n",
    "In its simplest form, the patterns can function as a `gazetteer`. In NLP, a gazetteer is a dictionary of terms that are mapped (or assigned) to a specific category. A good way to think about this in the example above would be to think of all the realms in Middle Earth. Can we realistically create a list of these? Yes. I've begun compiling that list from various sources online. It is available under the directory `lotr` in the file `realm.txt`. Let's take a look at that list."
   ]
  },
  {
   "cell_type": "code",
   "execution_count": 8,
   "id": "5b617dd8",
   "metadata": {},
   "outputs": [
    {
     "name": "stdout",
     "output_type": "stream",
     "text": [
      "['Anfalas', 'Angmar', 'Anórien', 'Arnor', 'Arvernien', 'Beleriand', 'Belfalas', 'Brethil', 'Calenardhon', 'Dagorlad', 'Drúwaith Iaur', 'Eldamar', 'Falas', 'Gondor', 'Isengard', 'Khand', 'Rhovanion', 'Lebennin', 'Lindórinand', 'Lonely Mountain', 'Lossarnach', 'Lothlórien', 'Mordor', 'Moria', 'Númenor', 'Rivendell', 'Rohan', 'South Gondor', 'Valinor']\n",
      "29\n"
     ]
    }
   ],
   "source": [
    "with open('../lotr/realm.txt', 'r') as f:\n",
    "    realms = f.read().splitlines()\n",
    "print(realms)\n",
    "print(len(realms))"
   ]
  },
  {
   "cell_type": "markdown",
   "id": "419e279f",
   "metadata": {},
   "source": [
    "Here is a list of 29 realms in Middle Earth. We can use lists like this to supply a spaCy EntityRuler with a list of patterns to identify. We can then assign a label to each of these, like we did with Gondor in the example above. This label can be whatever we want. Let's make it realm so that we can add some specificity to how we conceptualize places in Middle Earth.\n",
    "\n",
    "\n",
    "## Patterns\n",
    "\n",
    "What should a pattern look like? The EntityRuler takes a list of patterns as an input. Each pattern should be a dictionary that is structured like this:\n",
    "\n",
    "```python\n",
    "{\"pattern\": <PATTERN>, \"label\" <LABEL_NAME>}\n",
    "```\n",
    "\n",
    "Here, you would supply your own pattern in `<PATTERN>` and label for `<LABEL_NAME`. In the example of Gondor above, a pattern would look like this:\n",
    "\n",
    "```python\n",
    "{\"label\": \"REALM\", \"pattern\": \"Gondor\"}\n",
    "```\n",
    "\n",
    "Notice that I have changed the order of the dictionary. This is perfectly fine because dictionaries are not structured in such a way where order matters. In this example, we see a very simple pattern where `Gondor` is the pattern that we are looking for and `REALM` is our label. Let's look at the code above again now."
   ]
  },
  {
   "cell_type": "code",
   "execution_count": 9,
   "id": "05a3bcd7",
   "metadata": {},
   "outputs": [
    {
     "name": "stdout",
     "output_type": "stream",
     "text": [
      "Gondor REALM\n",
      "Rings ORG\n"
     ]
    }
   ],
   "source": [
    "#Build upon the spaCy Small Model\n",
    "nlp = spacy.load(\"en_core_web_sm\")\n",
    "\n",
    "#Sample text\n",
    "text = \"Gondor is a realm in Lord of the Rings.\"\n",
    "\n",
    "#Create the EntityRuler\n",
    "ruler = nlp.add_pipe(\"entity_ruler\")\n",
    "\n",
    "#List of Entities and Patterns\n",
    "patterns = [\n",
    "                {\"label\": \"REALM\", \"pattern\": \"Gondor\"}\n",
    "            ]\n",
    "\n",
    "ruler.add_patterns(patterns)\n",
    "\n",
    "\n",
    "doc = nlp(text)\n",
    "\n",
    "#extract entities\n",
    "for ent in doc.ents:\n",
    "    print (ent.text, ent.label_)"
   ]
  },
  {
   "cell_type": "markdown",
   "id": "915bac10",
   "metadata": {},
   "source": [
    "Now that we can see this code, let's breakdown precisely what is happening, step-by-step.\n",
    "\n",
    "Here, we are loading up our spaCy small model, as we have for the past 3 days.\n",
    "\n",
    "```python\n",
    "# Build upon the spaCy Small Model\n",
    "nlp = spacy.load(\"en_core_web_sm\")\n",
    "```\n",
    "\n",
    "Here we are defining a sample text that we want to process.\n",
    "\n",
    "```python\n",
    "# Sample text\n",
    "text = \"Gondor is a realm in Lord of the Rings.\"\n",
    "```\n",
    "\n",
    "This line adds an \"EntityRuler\" pipeline component to the `nlp` pipeline. Notice that we are specifying which pipe we want to add. The EntityRuler's name here is `entity_ruler`. It is very important to spell this correctly. We are creating the ruler as an object so that we can easily access it via the variable `ruler` when we add our patterns.\n",
    "\n",
    "```python\n",
    "# Create the EntityRuler\n",
    "ruler = nlp.add_pipe(\"entity_ruler\")\n",
    "```\n",
    "Here we define a list of patterns that the `EntityRuler` should recognize as named entities. In this case, we are defining a single pattern: whenever the `EntityRuler` sees the word \"Gondor\", it should label it as a \"REALM\". Notice that we are still putting patterns in a list even though we have only 1 pattern. The EntityRuler always expects a list, so make sure you structure your data in this way.\n",
    "\n",
    "```python\n",
    "# List of Entities and Patterns\n",
    "patterns = [\n",
    "                {\"label\": \"REALM\", \"pattern\": \"Gondor\"}\n",
    "            ]\n",
    "```\n",
    "\n",
    "This line adds the patterns we defined to the `EntityRuler`. After this line executes, the `EntityRuler` will label \"Gondor\" as a \"REALM\" whenever it processes text.\n",
    "\n",
    "```python\n",
    "ruler.add_patterns(patterns)\n",
    "```\n",
    "\n",
    "With our pipeline created, we can now process our text and create the `doc` container.\n",
    "\n",
    "```python\n",
    "doc = nlp(text)\n",
    "```\n",
    "\n",
    "Finally, this code block iterates over the named entities that were recognized in the processed text. For each entity, it prints the text of the entity and its label. In our case, it should print \"Gondor REALM\" because \"Gondor\" is labeled as a \"REALM\" by the `EntityRuler`.\n",
    "\n",
    "```python\n",
    "# Extract entities\n",
    "for ent in doc.ents:\n",
    "    print (ent.text, ent.label_)\n",
    "```\n"
   ]
  },
  {
   "cell_type": "code",
   "execution_count": 10,
   "id": "c7684efb",
   "metadata": {},
   "outputs": [],
   "source": [
    "from spacy import displacy"
   ]
  },
  {
   "cell_type": "code",
   "execution_count": 11,
   "id": "c7422610",
   "metadata": {},
   "outputs": [
    {
     "data": {
      "text/html": [
       "<span class=\"tex2jax_ignore\"><div class=\"entities\" style=\"line-height: 2.5; direction: ltr\">\n",
       "<mark class=\"entity\" style=\"background: #ddd; padding: 0.45em 0.6em; margin: 0 0.25em; line-height: 1; border-radius: 0.35em;\">\n",
       "    Gondor\n",
       "    <span style=\"font-size: 0.8em; font-weight: bold; line-height: 1; border-radius: 0.35em; vertical-align: middle; margin-left: 0.5rem\">REALM</span>\n",
       "</mark>\n",
       " is a realm in Lord of the \n",
       "<mark class=\"entity\" style=\"background: #7aecec; padding: 0.45em 0.6em; margin: 0 0.25em; line-height: 1; border-radius: 0.35em;\">\n",
       "    Rings\n",
       "    <span style=\"font-size: 0.8em; font-weight: bold; line-height: 1; border-radius: 0.35em; vertical-align: middle; margin-left: 0.5rem\">ORG</span>\n",
       "</mark>\n",
       ".</div></span>"
      ],
      "text/plain": [
       "<IPython.core.display.HTML object>"
      ]
     },
     "metadata": {},
     "output_type": "display_data"
    }
   ],
   "source": [
    "displacy.render(doc, style=\"ent\")"
   ]
  },
  {
   "cell_type": "markdown",
   "id": "55821c1c",
   "metadata": {},
   "source": [
    "# First Exercise\n",
    "\n",
    "Try and create a list of patterns to identify all the people in this text. Unlike before, we will be working with a blank spaCy model. Instead of using `spacy.load()`, we will use `spacy.blank()`. This will take one argument, the language we want to use. We will use `en` which is the English tokenizer.\n",
    "\n",
    "Come up with whatever labels you like and try and flag any entity you like. Want a pipeline to only find people? Do that. Want to find people and places? Do that. Want to label people according to nuanced labels like `HOBBIT`, `AINUR`, or `ELF`, do that. Have fun and most importantly, make mistakes!\n",
    "\n",
    "One thing I would like to see is for you to correct the patterns where Frodo is not grabbed in isolation from his family name."
   ]
  },
  {
   "cell_type": "code",
   "execution_count": 15,
   "id": "442790b1",
   "metadata": {},
   "outputs": [
    {
     "data": {
      "text/html": [
       "<span class=\"tex2jax_ignore\"><div class=\"entities\" style=\"line-height: 2.5; direction: ltr\">\n",
       "<mark class=\"entity\" style=\"background: #aa9cfc; padding: 0.45em 0.6em; margin: 0 0.25em; line-height: 1; border-radius: 0.35em;\">\n",
       "    Frodo\n",
       "    <span style=\"font-size: 0.8em; font-weight: bold; line-height: 1; border-radius: 0.35em; vertical-align: middle; margin-left: 0.5rem\">PERSON</span>\n",
       "</mark>\n",
       " Baggins is a Hobbit in Middle Earth. Gandalf is a wizard. They met in Rivendell, the home of Elrond.</div></span>"
      ],
      "text/plain": [
       "<IPython.core.display.HTML object>"
      ]
     },
     "metadata": {},
     "output_type": "display_data"
    }
   ],
   "source": [
    "nlp = spacy.blank(\"en\")\n",
    "\n",
    "ruler = nlp.add_pipe(\"entity_ruler\")\n",
    "\n",
    "patterns = [\n",
    "\n",
    "    {\"pattern\": \"Frodo\", \"label\": \"PERSON\"}\n",
    "]\n",
    "\n",
    "ruler.add_patterns(patterns)\n",
    "\n",
    "text = \"Frodo Baggins is a Hobbit in Middle Earth. Gandalf is a wizard. They met in Rivendell, the home of Elrond.\"\n",
    "\n",
    "doc = nlp(text)\n",
    "\n",
    "displacy.render(doc, style=\"ent\")"
   ]
  },
  {
   "cell_type": "markdown",
   "id": "9462bc1f",
   "metadata": {},
   "source": [
    "# Complex Patterns\n",
    "\n",
    "The largest benefit of using spaCy is that you can leverage linguistic features to create complex patterns. Let's look at a few fun examples. Imagine, we wanted to flag all proper nouns so that we could then manually verify all the proper nouns in our data. The accuracy of the parser here is far better than the NER model. The reason for this is that the parser is able to learn the features of a proper noun and predict accurately on out-of-scope data better than the named entity recognition model which needs to learn a lot about the language deeply to understand if something is a label and what label it is."
   ]
  },
  {
   "cell_type": "code",
   "execution_count": 29,
   "id": "e100c055",
   "metadata": {},
   "outputs": [
    {
     "data": {
      "text/html": [
       "<span class=\"tex2jax_ignore\"><div class=\"entities\" style=\"line-height: 2.5; direction: ltr\">\n",
       "<mark class=\"entity\" style=\"background: #ddd; padding: 0.45em 0.6em; margin: 0 0.25em; line-height: 1; border-radius: 0.35em;\">\n",
       "    Frodo\n",
       "    <span style=\"font-size: 0.8em; font-weight: bold; line-height: 1; border-radius: 0.35em; vertical-align: middle; margin-left: 0.5rem\">PROPER_NOUN</span>\n",
       "</mark>\n",
       " \n",
       "<mark class=\"entity\" style=\"background: #ddd; padding: 0.45em 0.6em; margin: 0 0.25em; line-height: 1; border-radius: 0.35em;\">\n",
       "    Baggins\n",
       "    <span style=\"font-size: 0.8em; font-weight: bold; line-height: 1; border-radius: 0.35em; vertical-align: middle; margin-left: 0.5rem\">PROPER_NOUN</span>\n",
       "</mark>\n",
       " is a Hobbit in \n",
       "<mark class=\"entity\" style=\"background: #ddd; padding: 0.45em 0.6em; margin: 0 0.25em; line-height: 1; border-radius: 0.35em;\">\n",
       "    Middle\n",
       "    <span style=\"font-size: 0.8em; font-weight: bold; line-height: 1; border-radius: 0.35em; vertical-align: middle; margin-left: 0.5rem\">PROPER_NOUN</span>\n",
       "</mark>\n",
       " \n",
       "<mark class=\"entity\" style=\"background: #ddd; padding: 0.45em 0.6em; margin: 0 0.25em; line-height: 1; border-radius: 0.35em;\">\n",
       "    Earth\n",
       "    <span style=\"font-size: 0.8em; font-weight: bold; line-height: 1; border-radius: 0.35em; vertical-align: middle; margin-left: 0.5rem\">PROPER_NOUN</span>\n",
       "</mark>\n",
       ". \n",
       "<mark class=\"entity\" style=\"background: #ddd; padding: 0.45em 0.6em; margin: 0 0.25em; line-height: 1; border-radius: 0.35em;\">\n",
       "    Gandalf\n",
       "    <span style=\"font-size: 0.8em; font-weight: bold; line-height: 1; border-radius: 0.35em; vertical-align: middle; margin-left: 0.5rem\">PROPER_NOUN</span>\n",
       "</mark>\n",
       " is a wizard. They met in \n",
       "<mark class=\"entity\" style=\"background: #ddd; padding: 0.45em 0.6em; margin: 0 0.25em; line-height: 1; border-radius: 0.35em;\">\n",
       "    Rivendell\n",
       "    <span style=\"font-size: 0.8em; font-weight: bold; line-height: 1; border-radius: 0.35em; vertical-align: middle; margin-left: 0.5rem\">PROPER_NOUN</span>\n",
       "</mark>\n",
       ", the home of \n",
       "<mark class=\"entity\" style=\"background: #ddd; padding: 0.45em 0.6em; margin: 0 0.25em; line-height: 1; border-radius: 0.35em;\">\n",
       "    Elrond\n",
       "    <span style=\"font-size: 0.8em; font-weight: bold; line-height: 1; border-radius: 0.35em; vertical-align: middle; margin-left: 0.5rem\">PROPER_NOUN</span>\n",
       "</mark>\n",
       ".</div></span>"
      ],
      "text/plain": [
       "<IPython.core.display.HTML object>"
      ]
     },
     "metadata": {},
     "output_type": "display_data"
    }
   ],
   "source": [
    "nlp = spacy.load(\"en_core_web_sm\")\n",
    "\n",
    "ruler = nlp.add_pipe(\"entity_ruler\", before=\"ner\")\n",
    "\n",
    "patterns = [\n",
    "\n",
    "    {\"pattern\": [\n",
    "            {\"POS\": \"PROPN\"}\n",
    "    ],\n",
    "    \"label\": \"PROPER_NOUN\"}\n",
    "]\n",
    "\n",
    "ruler.add_patterns(patterns)\n",
    "\n",
    "text = \"Frodo Baggins is a Hobbit in Middle Earth. Gandalf is a wizard. They met in Rivendell, the home of Elrond.\"\n",
    "\n",
    "doc = nlp(text)\n",
    "\n",
    "displacy.render(doc, style=\"ent\")"
   ]
  },
  {
   "cell_type": "markdown",
   "id": "49e56693",
   "metadata": {},
   "source": [
    "Notice that some of our proper nouns are multi-word tokens. Because \"pattern\"  points to a list, we can treat each index in the list as an individual token. This means we can flag multi-word proper nous by specifying a sequence of two tokens, each of which is a proper noun."
   ]
  },
  {
   "cell_type": "code",
   "execution_count": 37,
   "id": "8adc7359",
   "metadata": {},
   "outputs": [
    {
     "data": {
      "text/html": [
       "<span class=\"tex2jax_ignore\"><div class=\"entities\" style=\"line-height: 2.5; direction: ltr\">\n",
       "<mark class=\"entity\" style=\"background: #ddd; padding: 0.45em 0.6em; margin: 0 0.25em; line-height: 1; border-radius: 0.35em;\">\n",
       "    Frodo Baggins\n",
       "    <span style=\"font-size: 0.8em; font-weight: bold; line-height: 1; border-radius: 0.35em; vertical-align: middle; margin-left: 0.5rem\">MWT_PROPER_NOUN</span>\n",
       "</mark>\n",
       " is a Hobbit in \n",
       "<mark class=\"entity\" style=\"background: #ddd; padding: 0.45em 0.6em; margin: 0 0.25em; line-height: 1; border-radius: 0.35em;\">\n",
       "    Middle Earth\n",
       "    <span style=\"font-size: 0.8em; font-weight: bold; line-height: 1; border-radius: 0.35em; vertical-align: middle; margin-left: 0.5rem\">MWT_PROPER_NOUN</span>\n",
       "</mark>\n",
       ". \n",
       "<mark class=\"entity\" style=\"background: #7aecec; padding: 0.45em 0.6em; margin: 0 0.25em; line-height: 1; border-radius: 0.35em;\">\n",
       "    Gandalf\n",
       "    <span style=\"font-size: 0.8em; font-weight: bold; line-height: 1; border-radius: 0.35em; vertical-align: middle; margin-left: 0.5rem\">ORG</span>\n",
       "</mark>\n",
       " is a wizard. They met in \n",
       "<mark class=\"entity\" style=\"background: #aa9cfc; padding: 0.45em 0.6em; margin: 0 0.25em; line-height: 1; border-radius: 0.35em;\">\n",
       "    Rivendell\n",
       "    <span style=\"font-size: 0.8em; font-weight: bold; line-height: 1; border-radius: 0.35em; vertical-align: middle; margin-left: 0.5rem\">PERSON</span>\n",
       "</mark>\n",
       ", the home of \n",
       "<mark class=\"entity\" style=\"background: #feca74; padding: 0.45em 0.6em; margin: 0 0.25em; line-height: 1; border-radius: 0.35em;\">\n",
       "    Elrond\n",
       "    <span style=\"font-size: 0.8em; font-weight: bold; line-height: 1; border-radius: 0.35em; vertical-align: middle; margin-left: 0.5rem\">GPE</span>\n",
       "</mark>\n",
       ".</div></span>"
      ],
      "text/plain": [
       "<IPython.core.display.HTML object>"
      ]
     },
     "metadata": {},
     "output_type": "display_data"
    }
   ],
   "source": [
    "nlp = spacy.load(\"en_core_web_sm\")\n",
    "\n",
    "ruler = nlp.add_pipe(\"entity_ruler\", before=\"ner\")\n",
    "\n",
    "patterns = [\n",
    "\n",
    "    {\"pattern\": [\n",
    "            {\"POS\": \"PROPN\"},\n",
    "            {\"POS\": \"PROPN\"}\n",
    "    ],\n",
    "    \"label\": \"MWT_PROPER_NOUN\"}\n",
    "]\n",
    "\n",
    "ruler.add_patterns(patterns)\n",
    "\n",
    "text = \"Frodo Baggins is a Hobbit in Middle Earth. Gandalf is a wizard. They met in Rivendell, the home of Elrond.\"\n",
    "\n",
    "doc = nlp(text)\n",
    "\n",
    "displacy.render(doc, style=\"ent\")"
   ]
  },
  {
   "cell_type": "markdown",
   "id": "aa101f8b",
   "metadata": {},
   "source": [
    "Why is constructing rules like this useful? It means you can keep a list quite small. Imagine a lot of your characters have the same last name. You know for a fact that anytime a proper noun is followed by the name \"Baggins\", it is always (or nearly always) going to be a HOBBIT. You can take this rule and translate it into a pattern like so:"
   ]
  },
  {
   "cell_type": "code",
   "execution_count": 38,
   "id": "772ff364",
   "metadata": {},
   "outputs": [
    {
     "data": {
      "text/html": [
       "<span class=\"tex2jax_ignore\"><div class=\"entities\" style=\"line-height: 2.5; direction: ltr\">\n",
       "<mark class=\"entity\" style=\"background: #ddd; padding: 0.45em 0.6em; margin: 0 0.25em; line-height: 1; border-radius: 0.35em;\">\n",
       "    Frodo Baggins\n",
       "    <span style=\"font-size: 0.8em; font-weight: bold; line-height: 1; border-radius: 0.35em; vertical-align: middle; margin-left: 0.5rem\">HOBBIT</span>\n",
       "</mark>\n",
       " is a Hobbit in \n",
       "<mark class=\"entity\" style=\"background: #ff9561; padding: 0.45em 0.6em; margin: 0 0.25em; line-height: 1; border-radius: 0.35em;\">\n",
       "    Middle Earth\n",
       "    <span style=\"font-size: 0.8em; font-weight: bold; line-height: 1; border-radius: 0.35em; vertical-align: middle; margin-left: 0.5rem\">LOC</span>\n",
       "</mark>\n",
       ". \n",
       "<mark class=\"entity\" style=\"background: #7aecec; padding: 0.45em 0.6em; margin: 0 0.25em; line-height: 1; border-radius: 0.35em;\">\n",
       "    Gandalf\n",
       "    <span style=\"font-size: 0.8em; font-weight: bold; line-height: 1; border-radius: 0.35em; vertical-align: middle; margin-left: 0.5rem\">ORG</span>\n",
       "</mark>\n",
       " is a wizard. They met in \n",
       "<mark class=\"entity\" style=\"background: #aa9cfc; padding: 0.45em 0.6em; margin: 0 0.25em; line-height: 1; border-radius: 0.35em;\">\n",
       "    Rivendell\n",
       "    <span style=\"font-size: 0.8em; font-weight: bold; line-height: 1; border-radius: 0.35em; vertical-align: middle; margin-left: 0.5rem\">PERSON</span>\n",
       "</mark>\n",
       ", the home of \n",
       "<mark class=\"entity\" style=\"background: #feca74; padding: 0.45em 0.6em; margin: 0 0.25em; line-height: 1; border-radius: 0.35em;\">\n",
       "    Elrond\n",
       "    <span style=\"font-size: 0.8em; font-weight: bold; line-height: 1; border-radius: 0.35em; vertical-align: middle; margin-left: 0.5rem\">GPE</span>\n",
       "</mark>\n",
       ".</div></span>"
      ],
      "text/plain": [
       "<IPython.core.display.HTML object>"
      ]
     },
     "metadata": {},
     "output_type": "display_data"
    }
   ],
   "source": [
    "nlp = spacy.load(\"en_core_web_sm\")\n",
    "\n",
    "ruler = nlp.add_pipe(\"entity_ruler\", before=\"ner\")\n",
    "\n",
    "patterns = [\n",
    "\n",
    "    {\"pattern\": [\n",
    "            {\"POS\": \"PROPN\"},\n",
    "            {\"TEXT\": \"Baggins\"}\n",
    "    ],\n",
    "    \"label\": \"HOBBIT\"}\n",
    "]\n",
    "\n",
    "ruler.add_patterns(patterns)\n",
    "\n",
    "text = \"Frodo Baggins is a Hobbit in Middle Earth. Gandalf is a wizard. They met in Rivendell, the home of Elrond.\"\n",
    "\n",
    "doc = nlp(text)\n",
    "\n",
    "displacy.render(doc, style=\"ent\")"
   ]
  },
  {
   "cell_type": "markdown",
   "id": "b65e2d11",
   "metadata": {},
   "source": [
    "What if your data is messy and Baggins is sometimes lowercased because you are working with Reddit data?"
   ]
  },
  {
   "cell_type": "code",
   "execution_count": 39,
   "id": "4a4a2b65",
   "metadata": {},
   "outputs": [
    {
     "data": {
      "text/html": [
       "<span class=\"tex2jax_ignore\"><div class=\"entities\" style=\"line-height: 2.5; direction: ltr\">Frodo baggins is a \n",
       "<mark class=\"entity\" style=\"background: #9cc9cc; padding: 0.45em 0.6em; margin: 0 0.25em; line-height: 1; border-radius: 0.35em;\">\n",
       "    Hobbit\n",
       "    <span style=\"font-size: 0.8em; font-weight: bold; line-height: 1; border-radius: 0.35em; vertical-align: middle; margin-left: 0.5rem\">FAC</span>\n",
       "</mark>\n",
       " in \n",
       "<mark class=\"entity\" style=\"background: #ff9561; padding: 0.45em 0.6em; margin: 0 0.25em; line-height: 1; border-radius: 0.35em;\">\n",
       "    Middle Earth\n",
       "    <span style=\"font-size: 0.8em; font-weight: bold; line-height: 1; border-radius: 0.35em; vertical-align: middle; margin-left: 0.5rem\">LOC</span>\n",
       "</mark>\n",
       ". \n",
       "<mark class=\"entity\" style=\"background: #7aecec; padding: 0.45em 0.6em; margin: 0 0.25em; line-height: 1; border-radius: 0.35em;\">\n",
       "    Gandalf\n",
       "    <span style=\"font-size: 0.8em; font-weight: bold; line-height: 1; border-radius: 0.35em; vertical-align: middle; margin-left: 0.5rem\">ORG</span>\n",
       "</mark>\n",
       " is a wizard. They met in \n",
       "<mark class=\"entity\" style=\"background: #aa9cfc; padding: 0.45em 0.6em; margin: 0 0.25em; line-height: 1; border-radius: 0.35em;\">\n",
       "    Rivendell\n",
       "    <span style=\"font-size: 0.8em; font-weight: bold; line-height: 1; border-radius: 0.35em; vertical-align: middle; margin-left: 0.5rem\">PERSON</span>\n",
       "</mark>\n",
       ", the home of \n",
       "<mark class=\"entity\" style=\"background: #feca74; padding: 0.45em 0.6em; margin: 0 0.25em; line-height: 1; border-radius: 0.35em;\">\n",
       "    Elrond\n",
       "    <span style=\"font-size: 0.8em; font-weight: bold; line-height: 1; border-radius: 0.35em; vertical-align: middle; margin-left: 0.5rem\">GPE</span>\n",
       "</mark>\n",
       ".</div></span>"
      ],
      "text/plain": [
       "<IPython.core.display.HTML object>"
      ]
     },
     "metadata": {},
     "output_type": "display_data"
    }
   ],
   "source": [
    "nlp = spacy.load(\"en_core_web_sm\")\n",
    "\n",
    "ruler = nlp.add_pipe(\"entity_ruler\", before=\"ner\")\n",
    "\n",
    "patterns = [\n",
    "\n",
    "    {\"pattern\": [\n",
    "            {\"POS\": \"PROPN\"},\n",
    "            {\"TEXT\": \"Baggins\"}\n",
    "    ],\n",
    "    \"label\": \"HOBBIT\"}\n",
    "]\n",
    "\n",
    "ruler.add_patterns(patterns)\n",
    "\n",
    "text = \"Frodo baggins is a Hobbit in Middle Earth. Gandalf is a wizard. They met in Rivendell, the home of Elrond.\"\n",
    "\n",
    "doc = nlp(text)\n",
    "\n",
    "displacy.render(doc, style=\"ent\")"
   ]
  },
  {
   "cell_type": "markdown",
   "id": "7dae8954",
   "metadata": {},
   "source": [
    "Notice that this does not work. We can create a custom pattern that looks for any occurrence of a proper noun followed by a lowercase token that matches `baggins`."
   ]
  },
  {
   "cell_type": "code",
   "execution_count": 40,
   "id": "e83c92a4",
   "metadata": {},
   "outputs": [
    {
     "data": {
      "text/html": [
       "<span class=\"tex2jax_ignore\"><div class=\"entities\" style=\"line-height: 2.5; direction: ltr\">\n",
       "<mark class=\"entity\" style=\"background: #ddd; padding: 0.45em 0.6em; margin: 0 0.25em; line-height: 1; border-radius: 0.35em;\">\n",
       "    Frodo baggins\n",
       "    <span style=\"font-size: 0.8em; font-weight: bold; line-height: 1; border-radius: 0.35em; vertical-align: middle; margin-left: 0.5rem\">HOBBIT</span>\n",
       "</mark>\n",
       " is a \n",
       "<mark class=\"entity\" style=\"background: #9cc9cc; padding: 0.45em 0.6em; margin: 0 0.25em; line-height: 1; border-radius: 0.35em;\">\n",
       "    Hobbit\n",
       "    <span style=\"font-size: 0.8em; font-weight: bold; line-height: 1; border-radius: 0.35em; vertical-align: middle; margin-left: 0.5rem\">FAC</span>\n",
       "</mark>\n",
       " in \n",
       "<mark class=\"entity\" style=\"background: #ff9561; padding: 0.45em 0.6em; margin: 0 0.25em; line-height: 1; border-radius: 0.35em;\">\n",
       "    Middle Earth\n",
       "    <span style=\"font-size: 0.8em; font-weight: bold; line-height: 1; border-radius: 0.35em; vertical-align: middle; margin-left: 0.5rem\">LOC</span>\n",
       "</mark>\n",
       ". \n",
       "<mark class=\"entity\" style=\"background: #7aecec; padding: 0.45em 0.6em; margin: 0 0.25em; line-height: 1; border-radius: 0.35em;\">\n",
       "    Gandalf\n",
       "    <span style=\"font-size: 0.8em; font-weight: bold; line-height: 1; border-radius: 0.35em; vertical-align: middle; margin-left: 0.5rem\">ORG</span>\n",
       "</mark>\n",
       " is a wizard. They met in \n",
       "<mark class=\"entity\" style=\"background: #aa9cfc; padding: 0.45em 0.6em; margin: 0 0.25em; line-height: 1; border-radius: 0.35em;\">\n",
       "    Rivendell\n",
       "    <span style=\"font-size: 0.8em; font-weight: bold; line-height: 1; border-radius: 0.35em; vertical-align: middle; margin-left: 0.5rem\">PERSON</span>\n",
       "</mark>\n",
       ", the home of \n",
       "<mark class=\"entity\" style=\"background: #feca74; padding: 0.45em 0.6em; margin: 0 0.25em; line-height: 1; border-radius: 0.35em;\">\n",
       "    Elrond\n",
       "    <span style=\"font-size: 0.8em; font-weight: bold; line-height: 1; border-radius: 0.35em; vertical-align: middle; margin-left: 0.5rem\">GPE</span>\n",
       "</mark>\n",
       ".</div></span>"
      ],
      "text/plain": [
       "<IPython.core.display.HTML object>"
      ]
     },
     "metadata": {},
     "output_type": "display_data"
    }
   ],
   "source": [
    "nlp = spacy.load(\"en_core_web_sm\")\n",
    "\n",
    "ruler = nlp.add_pipe(\"entity_ruler\", before=\"ner\")\n",
    "\n",
    "patterns = [\n",
    "\n",
    "    {\"pattern\": [\n",
    "            {\"POS\": \"PROPN\"},\n",
    "            {\"LOWER\": \"baggins\"}\n",
    "    ],\n",
    "    \"label\": \"HOBBIT\"}\n",
    "]\n",
    "\n",
    "ruler.add_patterns(patterns)\n",
    "\n",
    "text = \"Frodo baggins is a Hobbit in Middle Earth. Gandalf is a wizard. They met in Rivendell, the home of Elrond.\"\n",
    "\n",
    "doc = nlp(text)\n",
    "\n",
    "displacy.render(doc, style=\"ent\")"
   ]
  },
  {
   "cell_type": "markdown",
   "id": "b8bc6526",
   "metadata": {},
   "source": [
    "We will be learning how to be build more elaborate patterns like this over the course of the week and we will learn precisely how to apply them on Lord of the Rings."
   ]
  }
 ],
 "metadata": {
  "kernelspec": {
   "display_name": "Python 3 (ipykernel)",
   "language": "python",
   "name": "python3"
  },
  "language_info": {
   "codemirror_mode": {
    "name": "ipython",
    "version": 3
   },
   "file_extension": ".py",
   "mimetype": "text/x-python",
   "name": "python",
   "nbconvert_exporter": "python",
   "pygments_lexer": "ipython3",
   "version": "3.8.5"
  },
  "toc": {
   "base_numbering": 1,
   "nav_menu": {},
   "number_sections": true,
   "sideBar": true,
   "skip_h1_title": false,
   "title_cell": "Table of Contents",
   "title_sidebar": "Contents",
   "toc_cell": false,
   "toc_position": {},
   "toc_section_display": true,
   "toc_window_display": true
  }
 },
 "nbformat": 4,
 "nbformat_minor": 5
}
